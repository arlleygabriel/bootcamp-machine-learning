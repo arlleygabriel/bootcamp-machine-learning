{
  "nbformat": 4,
  "nbformat_minor": 0,
  "metadata": {
    "colab": {
      "name": "desafio_final.ipynb",
      "provenance": [],
      "collapsed_sections": []
    },
    "kernelspec": {
      "name": "python3",
      "display_name": "Python 3"
    }
  },
  "cells": [
    {
      "cell_type": "code",
      "metadata": {
        "id": "nXRnXRRBIQz8",
        "colab": {
          "base_uri": "https://localhost:8080/",
          "height": 51
        },
        "outputId": "7b9afbfa-d4ae-4071-cf03-514e0d4be5b9"
      },
      "source": [
        "#importando as bibliotecas\n",
        "import pandas as pd  #biblioteca utilizada para criar os dataframes\n",
        "import numpy as np  #biblioteca utilizada para trabalhar com vetores ou matrizes\n",
        "import matplotlib.pyplot as plt #biblioteca utilizada para construção de gráficos\n",
        "from sklearn.cluster import KMeans #biblioteca utilizada para a construção K-means\n",
        "from sklearn.decomposition import PCA #biblioteca utilizada para a construção do PCA\n",
        "from sklearn.preprocessing import StandardScaler #biblioteca utilizada para a normalização dos dados\n",
        "import seaborn as sns #biblioteca utilizada para o plot dos gráficos de forma mais \"bonita\""
      ],
      "execution_count": null,
      "outputs": [
        {
          "output_type": "stream",
          "text": [
            "/usr/local/lib/python3.6/dist-packages/statsmodels/tools/_testing.py:19: FutureWarning: pandas.util.testing is deprecated. Use the functions in the public API at pandas.testing instead.\n",
            "  import pandas.util.testing as tm\n"
          ],
          "name": "stderr"
        }
      ]
    },
    {
      "cell_type": "code",
      "metadata": {
        "id": "dVcKpOsDI_Sz",
        "colab": {
          "resources": {
            "http://localhost:8080/nbextensions/google.colab/files.js": {
              "data": "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",
              "ok": true,
              "headers": [
                [
                  "content-type",
                  "application/javascript"
                ]
              ],
              "status": 200,
              "status_text": ""
            }
          },
          "base_uri": "https://localhost:8080/",
          "height": 72
        },
        "outputId": "d2a59d97-c00e-4acc-e4f5-12d02bbfe1a4"
      },
      "source": [
        "#importando o banco de dados a ser utilizado (comando necessário para o google colab)\n",
        "from google.colab import files\n",
        "uploaded = files.upload()"
      ],
      "execution_count": null,
      "outputs": [
        {
          "output_type": "display_data",
          "data": {
            "text/html": [
              "\n",
              "     <input type=\"file\" id=\"files-e3d598b3-de6e-4fdc-a471-87fc6083cc48\" name=\"files[]\" multiple disabled\n",
              "        style=\"border:none\" />\n",
              "     <output id=\"result-e3d598b3-de6e-4fdc-a471-87fc6083cc48\">\n",
              "      Upload widget is only available when the cell has been executed in the\n",
              "      current browser session. Please rerun this cell to enable.\n",
              "      </output>\n",
              "      <script src=\"/nbextensions/google.colab/files.js\"></script> "
            ],
            "text/plain": [
              "<IPython.core.display.HTML object>"
            ]
          },
          "metadata": {
            "tags": []
          }
        },
        {
          "output_type": "stream",
          "text": [
            "Saving cars.csv to cars.csv\n"
          ],
          "name": "stdout"
        }
      ]
    },
    {
      "cell_type": "code",
      "metadata": {
        "id": "zHjGfvVMJKQ8"
      },
      "source": [
        "#upload do dataset\n",
        "df_carros = pd.read_csv('cars.csv')"
      ],
      "execution_count": null,
      "outputs": []
    },
    {
      "cell_type": "code",
      "metadata": {
        "id": "orhprdt1KkOB",
        "colab": {
          "base_uri": "https://localhost:8080/",
          "height": 204
        },
        "outputId": "2b95e0b7-f2d6-450d-a350-9d2e3c5c4c54"
      },
      "source": [
        "#mostrando as 5 primeiras linhas do dataset\n",
        "df_carros.head()"
      ],
      "execution_count": null,
      "outputs": [
        {
          "output_type": "execute_result",
          "data": {
            "text/html": [
              "<div>\n",
              "<style scoped>\n",
              "    .dataframe tbody tr th:only-of-type {\n",
              "        vertical-align: middle;\n",
              "    }\n",
              "\n",
              "    .dataframe tbody tr th {\n",
              "        vertical-align: top;\n",
              "    }\n",
              "\n",
              "    .dataframe thead th {\n",
              "        text-align: right;\n",
              "    }\n",
              "</style>\n",
              "<table border=\"1\" class=\"dataframe\">\n",
              "  <thead>\n",
              "    <tr style=\"text-align: right;\">\n",
              "      <th></th>\n",
              "      <th>mpg</th>\n",
              "      <th>cylinders</th>\n",
              "      <th>cubicinches</th>\n",
              "      <th>hp</th>\n",
              "      <th>weightlbs</th>\n",
              "      <th>time-to-60</th>\n",
              "      <th>year</th>\n",
              "      <th>brand</th>\n",
              "    </tr>\n",
              "  </thead>\n",
              "  <tbody>\n",
              "    <tr>\n",
              "      <th>0</th>\n",
              "      <td>14.0</td>\n",
              "      <td>8</td>\n",
              "      <td>350</td>\n",
              "      <td>165</td>\n",
              "      <td>4209</td>\n",
              "      <td>12</td>\n",
              "      <td>1972</td>\n",
              "      <td>US.</td>\n",
              "    </tr>\n",
              "    <tr>\n",
              "      <th>1</th>\n",
              "      <td>31.9</td>\n",
              "      <td>4</td>\n",
              "      <td>89</td>\n",
              "      <td>71</td>\n",
              "      <td>1925</td>\n",
              "      <td>14</td>\n",
              "      <td>1980</td>\n",
              "      <td>Europe.</td>\n",
              "    </tr>\n",
              "    <tr>\n",
              "      <th>2</th>\n",
              "      <td>17.0</td>\n",
              "      <td>8</td>\n",
              "      <td>302</td>\n",
              "      <td>140</td>\n",
              "      <td>3449</td>\n",
              "      <td>11</td>\n",
              "      <td>1971</td>\n",
              "      <td>US.</td>\n",
              "    </tr>\n",
              "    <tr>\n",
              "      <th>3</th>\n",
              "      <td>15.0</td>\n",
              "      <td>8</td>\n",
              "      <td>400</td>\n",
              "      <td>150</td>\n",
              "      <td>3761</td>\n",
              "      <td>10</td>\n",
              "      <td>1971</td>\n",
              "      <td>US.</td>\n",
              "    </tr>\n",
              "    <tr>\n",
              "      <th>4</th>\n",
              "      <td>30.5</td>\n",
              "      <td>4</td>\n",
              "      <td>98</td>\n",
              "      <td>63</td>\n",
              "      <td>2051</td>\n",
              "      <td>17</td>\n",
              "      <td>1978</td>\n",
              "      <td>US.</td>\n",
              "    </tr>\n",
              "  </tbody>\n",
              "</table>\n",
              "</div>"
            ],
            "text/plain": [
              "    mpg  cylinders cubicinches   hp weightlbs  time-to-60  year     brand\n",
              "0  14.0          8         350  165      4209          12  1972       US.\n",
              "1  31.9          4          89   71      1925          14  1980   Europe.\n",
              "2  17.0          8         302  140      3449          11  1971       US.\n",
              "3  15.0          8         400  150      3761          10  1971       US.\n",
              "4  30.5          4          98   63      2051          17  1978       US."
            ]
          },
          "metadata": {
            "tags": []
          },
          "execution_count": 5
        }
      ]
    },
    {
      "cell_type": "code",
      "metadata": {
        "id": "pCf6cFHqJQxV",
        "colab": {
          "base_uri": "https://localhost:8080/",
          "height": 272
        },
        "outputId": "36b03c0f-704e-4d09-e0c3-b6e4d5ca5f6c"
      },
      "source": [
        "#encontrando as características do dataset\n",
        "df_carros.info()"
      ],
      "execution_count": null,
      "outputs": [
        {
          "output_type": "stream",
          "text": [
            "<class 'pandas.core.frame.DataFrame'>\n",
            "RangeIndex: 261 entries, 0 to 260\n",
            "Data columns (total 8 columns):\n",
            " #   Column       Non-Null Count  Dtype  \n",
            "---  ------       --------------  -----  \n",
            " 0   mpg          261 non-null    float64\n",
            " 1   cylinders    261 non-null    int64  \n",
            " 2   cubicinches  261 non-null    object \n",
            " 3   hp           261 non-null    int64  \n",
            " 4   weightlbs    261 non-null    object \n",
            " 5   time-to-60   261 non-null    int64  \n",
            " 6   year         261 non-null    int64  \n",
            " 7   brand        261 non-null    object \n",
            "dtypes: float64(1), int64(4), object(3)\n",
            "memory usage: 16.4+ KB\n"
          ],
          "name": "stdout"
        }
      ]
    },
    {
      "cell_type": "code",
      "metadata": {
        "id": "tvM3kdYiKey6",
        "colab": {
          "base_uri": "https://localhost:8080/",
          "height": 68
        },
        "outputId": "7ba145c7-d71e-40c3-d176-0de612390c8e"
      },
      "source": [
        "#encontrando as colunas\n",
        "df_carros.columns"
      ],
      "execution_count": null,
      "outputs": [
        {
          "output_type": "execute_result",
          "data": {
            "text/plain": [
              "Index(['mpg', 'cylinders', 'cubicinches', 'hp', 'weightlbs', 'time-to-60',\n",
              "       'year', 'brand'],\n",
              "      dtype='object')"
            ]
          },
          "metadata": {
            "tags": []
          },
          "execution_count": 7
        }
      ]
    },
    {
      "cell_type": "code",
      "metadata": {
        "id": "W5K0EEsAj7iK"
      },
      "source": [
        "#copiando o dataset para responder quais eram os valores\n",
        "df_carros_copia=df_carros.copy()"
      ],
      "execution_count": null,
      "outputs": []
    },
    {
      "cell_type": "code",
      "metadata": {
        "id": "DgzCmVPnKvUa"
      },
      "source": [
        "#pegando apenas os dados numéricos\n",
        "df_carros=df_carros[['mpg', 'cylinders', 'cubicinches', 'hp', 'weightlbs', 'time-to-60',\n",
        "       'year']]"
      ],
      "execution_count": null,
      "outputs": []
    },
    {
      "cell_type": "code",
      "metadata": {
        "id": "ZwyHUIK5KvaD",
        "colab": {
          "base_uri": "https://localhost:8080/",
          "height": 255
        },
        "outputId": "e29f6d3b-f904-49ac-9bda-b05b95cc65fd"
      },
      "source": [
        "#verificando as mudanças\n",
        "df_carros.info()"
      ],
      "execution_count": null,
      "outputs": [
        {
          "output_type": "stream",
          "text": [
            "<class 'pandas.core.frame.DataFrame'>\n",
            "RangeIndex: 261 entries, 0 to 260\n",
            "Data columns (total 7 columns):\n",
            " #   Column       Non-Null Count  Dtype  \n",
            "---  ------       --------------  -----  \n",
            " 0   mpg          261 non-null    float64\n",
            " 1   cylinders    261 non-null    int64  \n",
            " 2   cubicinches  261 non-null    object \n",
            " 3   hp           261 non-null    int64  \n",
            " 4   weightlbs    261 non-null    object \n",
            " 5   time-to-60   261 non-null    int64  \n",
            " 6   year         261 non-null    int64  \n",
            "dtypes: float64(1), int64(4), object(2)\n",
            "memory usage: 14.4+ KB\n"
          ],
          "name": "stdout"
        }
      ]
    },
    {
      "cell_type": "code",
      "metadata": {
        "id": "M2Wrc224KvfK"
      },
      "source": [
        "#transformando os dados para numéricos\n",
        "df_carros['cubicinches']=pd.to_numeric(df_carros['cubicinches'], errors='coerce')\n",
        "df_carros['weightlbs']=pd.to_numeric(df_carros['weightlbs'], errors='coerce')"
      ],
      "execution_count": null,
      "outputs": []
    },
    {
      "cell_type": "code",
      "metadata": {
        "id": "HdBxxhBRLe0k",
        "colab": {
          "base_uri": "https://localhost:8080/",
          "height": 255
        },
        "outputId": "cc238dd8-6e2b-4ec8-de48-84a7fbb91768"
      },
      "source": [
        "#verificando as mudanças\n",
        "df_carros.info()"
      ],
      "execution_count": null,
      "outputs": [
        {
          "output_type": "stream",
          "text": [
            "<class 'pandas.core.frame.DataFrame'>\n",
            "RangeIndex: 261 entries, 0 to 260\n",
            "Data columns (total 7 columns):\n",
            " #   Column       Non-Null Count  Dtype  \n",
            "---  ------       --------------  -----  \n",
            " 0   mpg          261 non-null    float64\n",
            " 1   cylinders    261 non-null    int64  \n",
            " 2   cubicinches  259 non-null    float64\n",
            " 3   hp           261 non-null    int64  \n",
            " 4   weightlbs    258 non-null    float64\n",
            " 5   time-to-60   261 non-null    int64  \n",
            " 6   year         261 non-null    int64  \n",
            "dtypes: float64(3), int64(4)\n",
            "memory usage: 14.4 KB\n"
          ],
          "name": "stdout"
        }
      ]
    },
    {
      "cell_type": "code",
      "metadata": {
        "id": "GzBMQr_GkIr6",
        "colab": {
          "base_uri": "https://localhost:8080/",
          "height": 111
        },
        "outputId": "25472dac-1c01-41e6-fd11-09c7f14378ea"
      },
      "source": [
        "#identificando os valores que forçaram o pandas a identificar as variáveis como nulas\n",
        "df_carros_copia[df_carros['cubicinches'].isnull()]"
      ],
      "execution_count": null,
      "outputs": [
        {
          "output_type": "execute_result",
          "data": {
            "text/html": [
              "<div>\n",
              "<style scoped>\n",
              "    .dataframe tbody tr th:only-of-type {\n",
              "        vertical-align: middle;\n",
              "    }\n",
              "\n",
              "    .dataframe tbody tr th {\n",
              "        vertical-align: top;\n",
              "    }\n",
              "\n",
              "    .dataframe thead th {\n",
              "        text-align: right;\n",
              "    }\n",
              "</style>\n",
              "<table border=\"1\" class=\"dataframe\">\n",
              "  <thead>\n",
              "    <tr style=\"text-align: right;\">\n",
              "      <th></th>\n",
              "      <th>mpg</th>\n",
              "      <th>cylinders</th>\n",
              "      <th>cubicinches</th>\n",
              "      <th>hp</th>\n",
              "      <th>weightlbs</th>\n",
              "      <th>time-to-60</th>\n",
              "      <th>year</th>\n",
              "      <th>brand</th>\n",
              "    </tr>\n",
              "  </thead>\n",
              "  <tbody>\n",
              "    <tr>\n",
              "      <th>40</th>\n",
              "      <td>16.0</td>\n",
              "      <td>6</td>\n",
              "      <td></td>\n",
              "      <td>105</td>\n",
              "      <td>3897</td>\n",
              "      <td>19</td>\n",
              "      <td>1976</td>\n",
              "      <td>US.</td>\n",
              "    </tr>\n",
              "    <tr>\n",
              "      <th>180</th>\n",
              "      <td>19.8</td>\n",
              "      <td>6</td>\n",
              "      <td></td>\n",
              "      <td>85</td>\n",
              "      <td>2990</td>\n",
              "      <td>18</td>\n",
              "      <td>1980</td>\n",
              "      <td>US.</td>\n",
              "    </tr>\n",
              "  </tbody>\n",
              "</table>\n",
              "</div>"
            ],
            "text/plain": [
              "      mpg  cylinders cubicinches   hp weightlbs  time-to-60  year brand\n",
              "40   16.0          6              105      3897          19  1976   US.\n",
              "180  19.8          6               85      2990          18  1980   US."
            ]
          },
          "metadata": {
            "tags": []
          },
          "execution_count": 13
        }
      ]
    },
    {
      "cell_type": "code",
      "metadata": {
        "id": "aLW3nVgGksAw",
        "colab": {
          "base_uri": "https://localhost:8080/",
          "height": 142
        },
        "outputId": "3b088460-a786-48d2-a5d4-e3defe150da4"
      },
      "source": [
        "df_carros_copia[df_carros['weightlbs'].isnull()]"
      ],
      "execution_count": null,
      "outputs": [
        {
          "output_type": "execute_result",
          "data": {
            "text/html": [
              "<div>\n",
              "<style scoped>\n",
              "    .dataframe tbody tr th:only-of-type {\n",
              "        vertical-align: middle;\n",
              "    }\n",
              "\n",
              "    .dataframe tbody tr th {\n",
              "        vertical-align: top;\n",
              "    }\n",
              "\n",
              "    .dataframe thead th {\n",
              "        text-align: right;\n",
              "    }\n",
              "</style>\n",
              "<table border=\"1\" class=\"dataframe\">\n",
              "  <thead>\n",
              "    <tr style=\"text-align: right;\">\n",
              "      <th></th>\n",
              "      <th>mpg</th>\n",
              "      <th>cylinders</th>\n",
              "      <th>cubicinches</th>\n",
              "      <th>hp</th>\n",
              "      <th>weightlbs</th>\n",
              "      <th>time-to-60</th>\n",
              "      <th>year</th>\n",
              "      <th>brand</th>\n",
              "    </tr>\n",
              "  </thead>\n",
              "  <tbody>\n",
              "    <tr>\n",
              "      <th>14</th>\n",
              "      <td>19.1</td>\n",
              "      <td>6</td>\n",
              "      <td>225</td>\n",
              "      <td>90</td>\n",
              "      <td></td>\n",
              "      <td>19</td>\n",
              "      <td>1981</td>\n",
              "      <td>US.</td>\n",
              "    </tr>\n",
              "    <tr>\n",
              "      <th>33</th>\n",
              "      <td>21.0</td>\n",
              "      <td>6</td>\n",
              "      <td>199</td>\n",
              "      <td>90</td>\n",
              "      <td></td>\n",
              "      <td>15</td>\n",
              "      <td>1971</td>\n",
              "      <td>US.</td>\n",
              "    </tr>\n",
              "    <tr>\n",
              "      <th>172</th>\n",
              "      <td>29.0</td>\n",
              "      <td>4</td>\n",
              "      <td>68</td>\n",
              "      <td>49</td>\n",
              "      <td></td>\n",
              "      <td>20</td>\n",
              "      <td>1974</td>\n",
              "      <td>Europe.</td>\n",
              "    </tr>\n",
              "  </tbody>\n",
              "</table>\n",
              "</div>"
            ],
            "text/plain": [
              "      mpg  cylinders cubicinches  hp weightlbs  time-to-60  year     brand\n",
              "14   19.1          6         225  90                    19  1981       US.\n",
              "33   21.0          6         199  90                    15  1971       US.\n",
              "172  29.0          4          68  49                    20  1974   Europe."
            ]
          },
          "metadata": {
            "tags": []
          },
          "execution_count": 14
        }
      ]
    },
    {
      "cell_type": "code",
      "metadata": {
        "id": "q5QGlkXYLnq5",
        "colab": {
          "base_uri": "https://localhost:8080/",
          "height": 153
        },
        "outputId": "bc80629f-f9f2-4b3d-b0f2-08ccba10e6d1"
      },
      "source": [
        "#verificando a existencia de valroes nulos\n",
        "df_carros.isnull().sum()"
      ],
      "execution_count": null,
      "outputs": [
        {
          "output_type": "execute_result",
          "data": {
            "text/plain": [
              "mpg            0\n",
              "cylinders      0\n",
              "cubicinches    2\n",
              "hp             0\n",
              "weightlbs      3\n",
              "time-to-60     0\n",
              "year           0\n",
              "dtype: int64"
            ]
          },
          "metadata": {
            "tags": []
          },
          "execution_count": 15
        }
      ]
    },
    {
      "cell_type": "code",
      "metadata": {
        "id": "GyjD6-Ufx6i3",
        "colab": {
          "base_uri": "https://localhost:8080/",
          "height": 297
        },
        "outputId": "e4840739-fafd-4746-c808-3b1b8cd76d64"
      },
      "source": [
        "df_carros.describe()"
      ],
      "execution_count": null,
      "outputs": [
        {
          "output_type": "execute_result",
          "data": {
            "text/html": [
              "<div>\n",
              "<style scoped>\n",
              "    .dataframe tbody tr th:only-of-type {\n",
              "        vertical-align: middle;\n",
              "    }\n",
              "\n",
              "    .dataframe tbody tr th {\n",
              "        vertical-align: top;\n",
              "    }\n",
              "\n",
              "    .dataframe thead th {\n",
              "        text-align: right;\n",
              "    }\n",
              "</style>\n",
              "<table border=\"1\" class=\"dataframe\">\n",
              "  <thead>\n",
              "    <tr style=\"text-align: right;\">\n",
              "      <th></th>\n",
              "      <th>mpg</th>\n",
              "      <th>cylinders</th>\n",
              "      <th>cubicinches</th>\n",
              "      <th>hp</th>\n",
              "      <th>weightlbs</th>\n",
              "      <th>time-to-60</th>\n",
              "      <th>year</th>\n",
              "    </tr>\n",
              "  </thead>\n",
              "  <tbody>\n",
              "    <tr>\n",
              "      <th>count</th>\n",
              "      <td>261.000000</td>\n",
              "      <td>261.000000</td>\n",
              "      <td>259.000000</td>\n",
              "      <td>261.000000</td>\n",
              "      <td>258.000000</td>\n",
              "      <td>261.000000</td>\n",
              "      <td>261.000000</td>\n",
              "    </tr>\n",
              "    <tr>\n",
              "      <th>mean</th>\n",
              "      <td>23.144828</td>\n",
              "      <td>5.590038</td>\n",
              "      <td>200.918919</td>\n",
              "      <td>106.360153</td>\n",
              "      <td>3009.833333</td>\n",
              "      <td>15.547893</td>\n",
              "      <td>1976.819923</td>\n",
              "    </tr>\n",
              "    <tr>\n",
              "      <th>std</th>\n",
              "      <td>7.823570</td>\n",
              "      <td>1.733310</td>\n",
              "      <td>109.258305</td>\n",
              "      <td>40.499959</td>\n",
              "      <td>854.039019</td>\n",
              "      <td>2.910625</td>\n",
              "      <td>3.637696</td>\n",
              "    </tr>\n",
              "    <tr>\n",
              "      <th>min</th>\n",
              "      <td>10.000000</td>\n",
              "      <td>3.000000</td>\n",
              "      <td>68.000000</td>\n",
              "      <td>46.000000</td>\n",
              "      <td>1613.000000</td>\n",
              "      <td>8.000000</td>\n",
              "      <td>1971.000000</td>\n",
              "    </tr>\n",
              "    <tr>\n",
              "      <th>25%</th>\n",
              "      <td>16.900000</td>\n",
              "      <td>4.000000</td>\n",
              "      <td>99.500000</td>\n",
              "      <td>75.000000</td>\n",
              "      <td>2248.000000</td>\n",
              "      <td>14.000000</td>\n",
              "      <td>1974.000000</td>\n",
              "    </tr>\n",
              "    <tr>\n",
              "      <th>50%</th>\n",
              "      <td>22.000000</td>\n",
              "      <td>6.000000</td>\n",
              "      <td>156.000000</td>\n",
              "      <td>95.000000</td>\n",
              "      <td>2867.500000</td>\n",
              "      <td>16.000000</td>\n",
              "      <td>1977.000000</td>\n",
              "    </tr>\n",
              "    <tr>\n",
              "      <th>75%</th>\n",
              "      <td>28.800000</td>\n",
              "      <td>8.000000</td>\n",
              "      <td>303.000000</td>\n",
              "      <td>138.000000</td>\n",
              "      <td>3670.000000</td>\n",
              "      <td>17.000000</td>\n",
              "      <td>1980.000000</td>\n",
              "    </tr>\n",
              "    <tr>\n",
              "      <th>max</th>\n",
              "      <td>46.600000</td>\n",
              "      <td>8.000000</td>\n",
              "      <td>455.000000</td>\n",
              "      <td>230.000000</td>\n",
              "      <td>4997.000000</td>\n",
              "      <td>25.000000</td>\n",
              "      <td>1983.000000</td>\n",
              "    </tr>\n",
              "  </tbody>\n",
              "</table>\n",
              "</div>"
            ],
            "text/plain": [
              "              mpg   cylinders  ...  time-to-60         year\n",
              "count  261.000000  261.000000  ...  261.000000   261.000000\n",
              "mean    23.144828    5.590038  ...   15.547893  1976.819923\n",
              "std      7.823570    1.733310  ...    2.910625     3.637696\n",
              "min     10.000000    3.000000  ...    8.000000  1971.000000\n",
              "25%     16.900000    4.000000  ...   14.000000  1974.000000\n",
              "50%     22.000000    6.000000  ...   16.000000  1977.000000\n",
              "75%     28.800000    8.000000  ...   17.000000  1980.000000\n",
              "max     46.600000    8.000000  ...   25.000000  1983.000000\n",
              "\n",
              "[8 rows x 7 columns]"
            ]
          },
          "metadata": {
            "tags": []
          },
          "execution_count": 16
        }
      ]
    },
    {
      "cell_type": "code",
      "metadata": {
        "id": "sNPcp18oLh1O"
      },
      "source": [
        "#retirando as linhas com dados NaN\n",
        "valores = {'cubicinches': df_carros['cubicinches'].mean(), 'weightlbs': df_carros['weightlbs'].mean()}\n",
        "df_carros=df_carros.fillna(value=valores)"
      ],
      "execution_count": null,
      "outputs": []
    },
    {
      "cell_type": "code",
      "metadata": {
        "id": "uT2ToqUaxNuK",
        "colab": {
          "base_uri": "https://localhost:8080/",
          "height": 153
        },
        "outputId": "fb6f6e0e-620f-4b94-fc0d-31e4791364f5"
      },
      "source": [
        "df_carros.isnull().sum()"
      ],
      "execution_count": null,
      "outputs": [
        {
          "output_type": "execute_result",
          "data": {
            "text/plain": [
              "mpg            0\n",
              "cylinders      0\n",
              "cubicinches    0\n",
              "hp             0\n",
              "weightlbs      0\n",
              "time-to-60     0\n",
              "year           0\n",
              "dtype: int64"
            ]
          },
          "metadata": {
            "tags": []
          },
          "execution_count": 18
        }
      ]
    },
    {
      "cell_type": "code",
      "metadata": {
        "id": "xZezH8fRxYlK",
        "colab": {
          "base_uri": "https://localhost:8080/",
          "height": 34
        },
        "outputId": "b9607506-539c-430d-ebed-06255515bdd7"
      },
      "source": [
        "#novo valor da média para a coluna \n",
        "df_carros.weightlbs.mean()"
      ],
      "execution_count": null,
      "outputs": [
        {
          "output_type": "execute_result",
          "data": {
            "text/plain": [
              "3009.8333333333335"
            ]
          },
          "metadata": {
            "tags": []
          },
          "execution_count": 19
        }
      ]
    },
    {
      "cell_type": "code",
      "metadata": {
        "id": "svK10gBPyUFm",
        "colab": {
          "base_uri": "https://localhost:8080/",
          "height": 34
        },
        "outputId": "ec17cfba-acef-4555-c7a3-70e7805941c5"
      },
      "source": [
        "#encontrando o valor da mediana para a variável \"mpg\"\n",
        "df_carros.mpg.median()"
      ],
      "execution_count": null,
      "outputs": [
        {
          "output_type": "execute_result",
          "data": {
            "text/plain": [
              "22.0"
            ]
          },
          "metadata": {
            "tags": []
          },
          "execution_count": 20
        }
      ]
    },
    {
      "cell_type": "code",
      "metadata": {
        "id": "jhsELjTxMTKW",
        "colab": {
          "base_uri": "https://localhost:8080/",
          "height": 34
        },
        "outputId": "823499ec-cdee-4ac2-c2d2-1af241f34bdc"
      },
      "source": [
        "#encontra o número de linhas e colunas dos dados\n",
        "df_carros.shape"
      ],
      "execution_count": null,
      "outputs": [
        {
          "output_type": "execute_result",
          "data": {
            "text/plain": [
              "(261, 7)"
            ]
          },
          "metadata": {
            "tags": []
          },
          "execution_count": 21
        }
      ]
    },
    {
      "cell_type": "code",
      "metadata": {
        "id": "SjRAtLJWgHQH",
        "colab": {
          "base_uri": "https://localhost:8080/",
          "height": 153
        },
        "outputId": "b01c8279-2d7e-4ebe-9c63-b7f32cee22c3"
      },
      "source": [
        "#verificando a existencia de valroes nulos\n",
        "df_carros.isnull().sum()"
      ],
      "execution_count": null,
      "outputs": [
        {
          "output_type": "execute_result",
          "data": {
            "text/plain": [
              "mpg            0\n",
              "cylinders      0\n",
              "cubicinches    0\n",
              "hp             0\n",
              "weightlbs      0\n",
              "time-to-60     0\n",
              "year           0\n",
              "dtype: int64"
            ]
          },
          "metadata": {
            "tags": []
          },
          "execution_count": 22
        }
      ]
    },
    {
      "cell_type": "markdown",
      "metadata": {
        "id": "RotjwSa5MlYm"
      },
      "source": [
        "**Conhecendo o dataset**"
      ]
    },
    {
      "cell_type": "code",
      "metadata": {
        "id": "e9L4QDflyFwP",
        "colab": {
          "base_uri": "https://localhost:8080/",
          "height": 297
        },
        "outputId": "5bb8db1b-bd55-4454-c039-839a91e112e7"
      },
      "source": [
        "#encontrando as \"estatísticas\" do dataset\n",
        "df_carros.describe()"
      ],
      "execution_count": null,
      "outputs": [
        {
          "output_type": "execute_result",
          "data": {
            "text/html": [
              "<div>\n",
              "<style scoped>\n",
              "    .dataframe tbody tr th:only-of-type {\n",
              "        vertical-align: middle;\n",
              "    }\n",
              "\n",
              "    .dataframe tbody tr th {\n",
              "        vertical-align: top;\n",
              "    }\n",
              "\n",
              "    .dataframe thead th {\n",
              "        text-align: right;\n",
              "    }\n",
              "</style>\n",
              "<table border=\"1\" class=\"dataframe\">\n",
              "  <thead>\n",
              "    <tr style=\"text-align: right;\">\n",
              "      <th></th>\n",
              "      <th>mpg</th>\n",
              "      <th>cylinders</th>\n",
              "      <th>cubicinches</th>\n",
              "      <th>hp</th>\n",
              "      <th>weightlbs</th>\n",
              "      <th>time-to-60</th>\n",
              "      <th>year</th>\n",
              "    </tr>\n",
              "  </thead>\n",
              "  <tbody>\n",
              "    <tr>\n",
              "      <th>count</th>\n",
              "      <td>261.000000</td>\n",
              "      <td>261.000000</td>\n",
              "      <td>261.000000</td>\n",
              "      <td>261.000000</td>\n",
              "      <td>261.000000</td>\n",
              "      <td>261.000000</td>\n",
              "      <td>261.000000</td>\n",
              "    </tr>\n",
              "    <tr>\n",
              "      <th>mean</th>\n",
              "      <td>23.144828</td>\n",
              "      <td>5.590038</td>\n",
              "      <td>200.918919</td>\n",
              "      <td>106.360153</td>\n",
              "      <td>3009.833333</td>\n",
              "      <td>15.547893</td>\n",
              "      <td>1976.819923</td>\n",
              "    </tr>\n",
              "    <tr>\n",
              "      <th>std</th>\n",
              "      <td>7.823570</td>\n",
              "      <td>1.733310</td>\n",
              "      <td>108.837269</td>\n",
              "      <td>40.499959</td>\n",
              "      <td>849.097575</td>\n",
              "      <td>2.910625</td>\n",
              "      <td>3.637696</td>\n",
              "    </tr>\n",
              "    <tr>\n",
              "      <th>min</th>\n",
              "      <td>10.000000</td>\n",
              "      <td>3.000000</td>\n",
              "      <td>68.000000</td>\n",
              "      <td>46.000000</td>\n",
              "      <td>1613.000000</td>\n",
              "      <td>8.000000</td>\n",
              "      <td>1971.000000</td>\n",
              "    </tr>\n",
              "    <tr>\n",
              "      <th>25%</th>\n",
              "      <td>16.900000</td>\n",
              "      <td>4.000000</td>\n",
              "      <td>101.000000</td>\n",
              "      <td>75.000000</td>\n",
              "      <td>2254.000000</td>\n",
              "      <td>14.000000</td>\n",
              "      <td>1974.000000</td>\n",
              "    </tr>\n",
              "    <tr>\n",
              "      <th>50%</th>\n",
              "      <td>22.000000</td>\n",
              "      <td>6.000000</td>\n",
              "      <td>156.000000</td>\n",
              "      <td>95.000000</td>\n",
              "      <td>2904.000000</td>\n",
              "      <td>16.000000</td>\n",
              "      <td>1977.000000</td>\n",
              "    </tr>\n",
              "    <tr>\n",
              "      <th>75%</th>\n",
              "      <td>28.800000</td>\n",
              "      <td>8.000000</td>\n",
              "      <td>302.000000</td>\n",
              "      <td>138.000000</td>\n",
              "      <td>3664.000000</td>\n",
              "      <td>17.000000</td>\n",
              "      <td>1980.000000</td>\n",
              "    </tr>\n",
              "    <tr>\n",
              "      <th>max</th>\n",
              "      <td>46.600000</td>\n",
              "      <td>8.000000</td>\n",
              "      <td>455.000000</td>\n",
              "      <td>230.000000</td>\n",
              "      <td>4997.000000</td>\n",
              "      <td>25.000000</td>\n",
              "      <td>1983.000000</td>\n",
              "    </tr>\n",
              "  </tbody>\n",
              "</table>\n",
              "</div>"
            ],
            "text/plain": [
              "              mpg   cylinders  ...  time-to-60         year\n",
              "count  261.000000  261.000000  ...  261.000000   261.000000\n",
              "mean    23.144828    5.590038  ...   15.547893  1976.819923\n",
              "std      7.823570    1.733310  ...    2.910625     3.637696\n",
              "min     10.000000    3.000000  ...    8.000000  1971.000000\n",
              "25%     16.900000    4.000000  ...   14.000000  1974.000000\n",
              "50%     22.000000    6.000000  ...   16.000000  1977.000000\n",
              "75%     28.800000    8.000000  ...   17.000000  1980.000000\n",
              "max     46.600000    8.000000  ...   25.000000  1983.000000\n",
              "\n",
              "[8 rows x 7 columns]"
            ]
          },
          "metadata": {
            "tags": []
          },
          "execution_count": 23
        }
      ]
    },
    {
      "cell_type": "code",
      "metadata": {
        "id": "oCDCC4ceMj8Q",
        "colab": {
          "base_uri": "https://localhost:8080/",
          "height": 541
        },
        "outputId": "8b54d73a-8126-4bf7-90b8-9782c1ddd9cf"
      },
      "source": [
        "#encontrando a matriz de correlação entre alguns dados\n",
        "plt.rcParams[\"figure.figsize\"] = [16, 9]\n",
        "matriz_correlacao=df_carros[['mpg','cylinders','hp','time-to-60']].corr()\n",
        "sns.heatmap(matriz_correlacao, annot=True)  #realiza o plot da matriz de correlação\n",
        "plt.show()"
      ],
      "execution_count": null,
      "outputs": [
        {
          "output_type": "display_data",
          "data": {
            "image/png": "[encoded data removed]",
            "text/plain": [
              "<Figure size 1152x648 with 2 Axes>"
            ]
          },
          "metadata": {
            "tags": [],
            "needs_background": "light"
          }
        }
      ]
    },
    {
      "cell_type": "code",
      "metadata": {
        "id": "N8nv75brNvP9",
        "colab": {
          "base_uri": "https://localhost:8080/",
          "height": 537
        },
        "outputId": "9edf89b7-249d-41c9-fb41-555b6669f197"
      },
      "source": [
        "#plotando alguns gráficos\n",
        "df_carros['cylinders'].hist(bins=3);  #histograma"
      ],
      "execution_count": null,
      "outputs": [
        {
          "output_type": "display_data",
          "data": {
            "image/png": "[encoded data removed]",
            "text/plain": [
              "<Figure size 1152x648 with 1 Axes>"
            ]
          },
          "metadata": {
            "tags": [],
            "needs_background": "light"
          }
        }
      ]
    },
    {
      "cell_type": "code",
      "metadata": {
        "id": "QEg5Q_3bOn3V",
        "colab": {
          "base_uri": "https://localhost:8080/",
          "height": 551
        },
        "outputId": "f1e54ede-3081-4b20-9a8b-20c64989dde5"
      },
      "source": [
        "#plotando o scatterplot\n",
        "cmap = sns.cubehelix_palette(dark=.2, light=.9, as_cmap=True) #definindo as cores para serem utilizadas\n",
        "sns.scatterplot(x=\"hp\", y=\"mpg\", hue=\"cylinders\", data=df_carros, palette=cmap); # realizando o plot do gráfico"
      ],
      "execution_count": null,
      "outputs": [
        {
          "output_type": "display_data",
          "data": {
            "image/png": "[encoded data removed]",
            "text/plain": [
              "<Figure size 1152x648 with 1 Axes>"
            ]
          },
          "metadata": {
            "tags": [],
            "needs_background": "light"
          }
        }
      ]
    },
    {
      "cell_type": "code",
      "metadata": {
        "id": "9T0hvFQr1OeN",
        "colab": {
          "base_uri": "https://localhost:8080/",
          "height": 51
        },
        "outputId": "b7ebaa24-8618-491d-842e-df80d1a4b7a3"
      },
      "source": [
        "df_carros[['hp']].median()"
      ],
      "execution_count": null,
      "outputs": [
        {
          "output_type": "execute_result",
          "data": {
            "text/plain": [
              "hp    95.0\n",
              "dtype: float64"
            ]
          },
          "metadata": {
            "tags": []
          },
          "execution_count": 27
        }
      ]
    },
    {
      "cell_type": "markdown",
      "metadata": {
        "id": "M1L7gd7gw_0B"
      },
      "source": [
        "**Identificando possíveis outliers**"
      ]
    },
    {
      "cell_type": "code",
      "metadata": {
        "id": "dXCSIVA2w9id",
        "colab": {
          "base_uri": "https://localhost:8080/",
          "height": 554
        },
        "outputId": "4c15bcf6-7f71-4965-b261-da999c73d47e"
      },
      "source": [
        "#realizando o plot do boxplot\n",
        "df_carros[['hp']].boxplot()"
      ],
      "execution_count": null,
      "outputs": [
        {
          "output_type": "execute_result",
          "data": {
            "text/plain": [
              "<matplotlib.axes._subplots.AxesSubplot at 0x7fe574ca6b70>"
            ]
          },
          "metadata": {
            "tags": []
          },
          "execution_count": 28
        },
        {
          "output_type": "display_data",
          "data": {
            "image/png": "[encoded data removed]",
            "text/plain": [
              "<Figure size 1152x648 with 1 Axes>"
            ]
          },
          "metadata": {
            "tags": [],
            "needs_background": "light"
          }
        }
      ]
    },
    {
      "cell_type": "code",
      "metadata": {
        "id": "-e3DL0Dbx5AT",
        "colab": {
          "base_uri": "https://localhost:8080/",
          "height": 554
        },
        "outputId": "65d74ac6-6c7b-4a15-ee5c-b9383f9113ae"
      },
      "source": [
        "df_carros[['time-to-60']].boxplot()"
      ],
      "execution_count": null,
      "outputs": [
        {
          "output_type": "execute_result",
          "data": {
            "text/plain": [
              "<matplotlib.axes._subplots.AxesSubplot at 0x7fe574c15a90>"
            ]
          },
          "metadata": {
            "tags": []
          },
          "execution_count": 29
        },
        {
          "output_type": "display_data",
          "data": {
            "image/png": "[encoded data removed]",
            "text/plain": [
              "<Figure size 1152x648 with 1 Axes>"
            ]
          },
          "metadata": {
            "tags": [],
            "needs_background": "light"
          }
        }
      ]
    },
    {
      "cell_type": "markdown",
      "metadata": {
        "id": "uOxuzqHbQaBO"
      },
      "source": [
        "**Inicalizando o PCA**"
      ]
    },
    {
      "cell_type": "code",
      "metadata": {
        "id": "b0qOUvHkQNVU"
      },
      "source": [
        "#Normalização com média 0 e desvio 1\n",
        "normaliza = StandardScaler() #objeto para a normalização\n",
        "X_std=normaliza.fit_transform(df_carros) #aplica a normalização"
      ],
      "execution_count": null,
      "outputs": []
    },
    {
      "cell_type": "code",
      "metadata": {
        "id": "B0lFAmDMmsj4",
        "colab": {
          "base_uri": "https://localhost:8080/",
          "height": 238
        },
        "outputId": "e0f3744a-0811-4af2-be0c-ebaee72dd0f6"
      },
      "source": [
        "X_std"
      ],
      "execution_count": null,
      "outputs": [
        {
          "output_type": "execute_result",
          "data": {
            "text/plain": [
              "array([[-1.17112732,  1.39305285,  1.37239295, ...,  1.41499703,\n",
              "        -1.22128734, -1.32753906],\n",
              "       [ 1.12122635, -0.91910482, -1.03028992, ..., -1.28008557,\n",
              "        -0.53282946,  0.8758803 ],\n",
              "       [-0.78693397,  1.39305285,  0.93052024, ...,  0.51820947,\n",
              "        -1.56551627, -1.60296648],\n",
              "       ...,\n",
              "       [-0.14661172,  0.23697401,  0.28612253, ..., -0.20630047,\n",
              "        -0.18860053,  1.70216257],\n",
              "       [-0.65886952,  0.23697401,  0.28612253, ...,  0.32823211,\n",
              "         0.15562841, -1.32753906],\n",
              "       [-0.14661172,  0.23697401,  0.4518248 , ...,  0.40493105,\n",
              "        -0.18860053,  0.04959804]])"
            ]
          },
          "metadata": {
            "tags": []
          },
          "execution_count": 31
        }
      ]
    },
    {
      "cell_type": "code",
      "metadata": {
        "id": "pgArqBpV5qCh",
        "colab": {
          "base_uri": "https://localhost:8080/",
          "height": 68
        },
        "outputId": "e0c484d5-44d4-4e72-d956-11f653c8df29"
      },
      "source": [
        "df_carros.columns"
      ],
      "execution_count": null,
      "outputs": [
        {
          "output_type": "execute_result",
          "data": {
            "text/plain": [
              "Index(['mpg', 'cylinders', 'cubicinches', 'hp', 'weightlbs', 'time-to-60',\n",
              "       'year'],\n",
              "      dtype='object')"
            ]
          },
          "metadata": {
            "tags": []
          },
          "execution_count": 63
        }
      ]
    },
    {
      "cell_type": "code",
      "metadata": {
        "id": "MOGwj0hr57qN"
      },
      "source": [
        "#Normalização com média 0 e desvio 1\n",
        "normaliza = StandardScaler() #objeto para a normalização\n",
        "hp=normaliza.fit_transform((df_carros['cylinders'].values).reshape(-1,1)) #aplica a normalização"
      ],
      "execution_count": null,
      "outputs": []
    },
    {
      "cell_type": "code",
      "metadata": {
        "id": "lJhXffTL6Fhs",
        "colab": {
          "base_uri": "https://localhost:8080/",
          "height": 34
        },
        "outputId": "fb1138c4-2f54-4871-d4e0-2f4a9dad32cc"
      },
      "source": [
        "hp.max()"
      ],
      "execution_count": null,
      "outputs": [
        {
          "output_type": "execute_result",
          "data": {
            "text/plain": [
              "1.393052850675895"
            ]
          },
          "metadata": {
            "tags": []
          },
          "execution_count": 78
        }
      ]
    },
    {
      "cell_type": "code",
      "metadata": {
        "id": "b7mcQu7QQ2yC"
      },
      "source": [
        "#inicalizando o objeto PCA\n",
        "pca = PCA(n_components=7)  #instancia o objeto\n",
        "principalComponents = pca.fit_transform(X_std) #aplica a identificação do pca"
      ],
      "execution_count": null,
      "outputs": []
    },
    {
      "cell_type": "code",
      "metadata": {
        "id": "FLt3TNIgREdE",
        "colab": {
          "base_uri": "https://localhost:8080/",
          "height": 567
        },
        "outputId": "aafb3da6-77fe-41b1-de59-7959081aac85"
      },
      "source": [
        "#plot das componentes principais\n",
        "features = range(pca.n_components_)\n",
        "plt.bar(features, pca.explained_variance_ratio_, color='black');\n",
        "plt.xlabel('PCA características (autovetores vetores)')\n",
        "plt.ylabel('% de variância')\n",
        "plt.title(\"Componentes Principais\")\n",
        "plt.xticks(features);"
      ],
      "execution_count": null,
      "outputs": [
        {
          "output_type": "display_data",
          "data": {
            "image/png": "[encoded data removed]",
            "text/plain": [
              "<Figure size 1152x648 with 1 Axes>"
            ]
          },
          "metadata": {
            "tags": [],
            "needs_background": "light"
          }
        }
      ]
    },
    {
      "cell_type": "code",
      "metadata": {
        "id": "uodFcaLvK41D",
        "colab": {
          "base_uri": "https://localhost:8080/",
          "height": 34
        },
        "outputId": "975b9d0c-27b9-4763-a014-c0206875e7b6"
      },
      "source": [
        "#valor da primeira componente principal\n",
        "pca.explained_variance_ratio_[1]"
      ],
      "execution_count": null,
      "outputs": [
        {
          "output_type": "execute_result",
          "data": {
            "text/plain": [
              "0.12675138457359814"
            ]
          },
          "metadata": {
            "tags": []
          },
          "execution_count": 35
        }
      ]
    },
    {
      "cell_type": "code",
      "metadata": {
        "id": "M9DhvcThRc4z",
        "colab": {
          "base_uri": "https://localhost:8080/",
          "height": 585
        },
        "outputId": "e783911d-9683-4f3f-edc8-5eed2eae95eb"
      },
      "source": [
        "\n",
        "#plot cumulativo das variâncias explicadas\n",
        "pca.explained_variance_ratio_\n",
        "\n",
        "plt.plot(range(1,8),pca.explained_variance_ratio_.cumsum(), marker='o', linestyle='--') #plot dos valores acumulados para os dados\n",
        "plt.xlabel('Número de Componentes')\n",
        "plt.ylabel('Variância Acumulada')\n",
        "plt.title(\"Componentes Principais - Acumulada\")"
      ],
      "execution_count": null,
      "outputs": [
        {
          "output_type": "execute_result",
          "data": {
            "text/plain": [
              "Text(0.5, 1.0, 'Componentes Principais - Acumulada')"
            ]
          },
          "metadata": {
            "tags": []
          },
          "execution_count": 36
        },
        {
          "output_type": "display_data",
          "data": {
            "image/png": "[encoded data removed]",
            "text/plain": [
              "<Figure size 1152x648 with 1 Axes>"
            ]
          },
          "metadata": {
            "tags": [],
            "needs_background": "light"
          }
        }
      ]
    },
    {
      "cell_type": "code",
      "metadata": {
        "id": "PIJOzlhKRw30"
      },
      "source": [
        "#criando o dataset com as componentes\n",
        "PCA_components = pd.DataFrame(principalComponents)"
      ],
      "execution_count": null,
      "outputs": []
    },
    {
      "cell_type": "code",
      "metadata": {
        "id": "61blOdWrR3hk",
        "colab": {
          "base_uri": "https://localhost:8080/",
          "height": 359
        },
        "outputId": "12cd4113-796b-4331-a7af-fc447d66a9cc"
      },
      "source": [
        "PCA_components.head(10)"
      ],
      "execution_count": null,
      "outputs": [
        {
          "output_type": "execute_result",
          "data": {
            "text/html": [
              "<div>\n",
              "<style scoped>\n",
              "    .dataframe tbody tr th:only-of-type {\n",
              "        vertical-align: middle;\n",
              "    }\n",
              "\n",
              "    .dataframe tbody tr th {\n",
              "        vertical-align: top;\n",
              "    }\n",
              "\n",
              "    .dataframe thead th {\n",
              "        text-align: right;\n",
              "    }\n",
              "</style>\n",
              "<table border=\"1\" class=\"dataframe\">\n",
              "  <thead>\n",
              "    <tr style=\"text-align: right;\">\n",
              "      <th></th>\n",
              "      <th>0</th>\n",
              "      <th>1</th>\n",
              "      <th>2</th>\n",
              "      <th>3</th>\n",
              "      <th>4</th>\n",
              "      <th>5</th>\n",
              "      <th>6</th>\n",
              "    </tr>\n",
              "  </thead>\n",
              "  <tbody>\n",
              "    <tr>\n",
              "      <th>0</th>\n",
              "      <td>3.485219</td>\n",
              "      <td>0.526326</td>\n",
              "      <td>-0.139738</td>\n",
              "      <td>0.258792</td>\n",
              "      <td>0.086902</td>\n",
              "      <td>-0.179206</td>\n",
              "      <td>0.079078</td>\n",
              "    </tr>\n",
              "    <tr>\n",
              "      <th>1</th>\n",
              "      <td>-2.176912</td>\n",
              "      <td>-0.285424</td>\n",
              "      <td>-1.304613</td>\n",
              "      <td>-0.100465</td>\n",
              "      <td>-0.289698</td>\n",
              "      <td>-0.041147</td>\n",
              "      <td>-0.013127</td>\n",
              "    </tr>\n",
              "    <tr>\n",
              "      <th>2</th>\n",
              "      <td>2.684973</td>\n",
              "      <td>1.046946</td>\n",
              "      <td>-0.732156</td>\n",
              "      <td>0.498227</td>\n",
              "      <td>-0.535168</td>\n",
              "      <td>-0.075745</td>\n",
              "      <td>0.159956</td>\n",
              "    </tr>\n",
              "    <tr>\n",
              "      <th>3</th>\n",
              "      <td>3.534648</td>\n",
              "      <td>0.847619</td>\n",
              "      <td>-0.801334</td>\n",
              "      <td>0.506630</td>\n",
              "      <td>-0.435696</td>\n",
              "      <td>-0.144237</td>\n",
              "      <td>-0.483162</td>\n",
              "    </tr>\n",
              "    <tr>\n",
              "      <th>4</th>\n",
              "      <td>-2.299222</td>\n",
              "      <td>0.194808</td>\n",
              "      <td>-0.221704</td>\n",
              "      <td>0.079650</td>\n",
              "      <td>-0.175655</td>\n",
              "      <td>0.015566</td>\n",
              "      <td>-0.069958</td>\n",
              "    </tr>\n",
              "    <tr>\n",
              "      <th>5</th>\n",
              "      <td>1.449778</td>\n",
              "      <td>-1.588722</td>\n",
              "      <td>0.950710</td>\n",
              "      <td>0.742082</td>\n",
              "      <td>-0.196737</td>\n",
              "      <td>0.097858</td>\n",
              "      <td>-0.169286</td>\n",
              "    </tr>\n",
              "    <tr>\n",
              "      <th>6</th>\n",
              "      <td>3.314567</td>\n",
              "      <td>0.009404</td>\n",
              "      <td>0.241777</td>\n",
              "      <td>0.027594</td>\n",
              "      <td>0.022258</td>\n",
              "      <td>-0.207515</td>\n",
              "      <td>0.045707</td>\n",
              "    </tr>\n",
              "    <tr>\n",
              "      <th>7</th>\n",
              "      <td>4.793378</td>\n",
              "      <td>0.531764</td>\n",
              "      <td>-1.124946</td>\n",
              "      <td>0.479539</td>\n",
              "      <td>0.736392</td>\n",
              "      <td>0.126695</td>\n",
              "      <td>-0.277913</td>\n",
              "    </tr>\n",
              "    <tr>\n",
              "      <th>8</th>\n",
              "      <td>-1.050627</td>\n",
              "      <td>-0.883101</td>\n",
              "      <td>1.452750</td>\n",
              "      <td>-0.074926</td>\n",
              "      <td>0.218011</td>\n",
              "      <td>-0.436406</td>\n",
              "      <td>-0.096664</td>\n",
              "    </tr>\n",
              "    <tr>\n",
              "      <th>9</th>\n",
              "      <td>-2.946682</td>\n",
              "      <td>-0.974459</td>\n",
              "      <td>-0.558787</td>\n",
              "      <td>0.448091</td>\n",
              "      <td>-0.031856</td>\n",
              "      <td>-0.081806</td>\n",
              "      <td>0.004353</td>\n",
              "    </tr>\n",
              "  </tbody>\n",
              "</table>\n",
              "</div>"
            ],
            "text/plain": [
              "          0         1         2         3         4         5         6\n",
              "0  3.485219  0.526326 -0.139738  0.258792  0.086902 -0.179206  0.079078\n",
              "1 -2.176912 -0.285424 -1.304613 -0.100465 -0.289698 -0.041147 -0.013127\n",
              "2  2.684973  1.046946 -0.732156  0.498227 -0.535168 -0.075745  0.159956\n",
              "3  3.534648  0.847619 -0.801334  0.506630 -0.435696 -0.144237 -0.483162\n",
              "4 -2.299222  0.194808 -0.221704  0.079650 -0.175655  0.015566 -0.069958\n",
              "5  1.449778 -1.588722  0.950710  0.742082 -0.196737  0.097858 -0.169286\n",
              "6  3.314567  0.009404  0.241777  0.027594  0.022258 -0.207515  0.045707\n",
              "7  4.793378  0.531764 -1.124946  0.479539  0.736392  0.126695 -0.277913\n",
              "8 -1.050627 -0.883101  1.452750 -0.074926  0.218011 -0.436406 -0.096664\n",
              "9 -2.946682 -0.974459 -0.558787  0.448091 -0.031856 -0.081806  0.004353"
            ]
          },
          "metadata": {
            "tags": []
          },
          "execution_count": 38
        }
      ]
    },
    {
      "cell_type": "code",
      "metadata": {
        "id": "hDopy0n1SB6X",
        "colab": {
          "base_uri": "https://localhost:8080/",
          "height": 551
        },
        "outputId": "5b289cdf-f32f-4f9f-b75a-7ba3a7737fda"
      },
      "source": [
        "#realizando o plot em duas dimensões (componentes 1 e 2 )\n",
        "plt.scatter(PCA_components[0], PCA_components[1], alpha=.4, color='black')\n",
        "plt.xlabel('PCA 1')\n",
        "plt.ylabel('PCA 2');"
      ],
      "execution_count": null,
      "outputs": [
        {
          "output_type": "display_data",
          "data": {
            "image/png": "[encoded data removed]",
            "text/plain": [
              "<Figure size 1152x648 with 1 Axes>"
            ]
          },
          "metadata": {
            "tags": [],
            "needs_background": "light"
          }
        }
      ]
    },
    {
      "cell_type": "code",
      "metadata": {
        "id": "u0PqCNPBSN0h",
        "colab": {
          "base_uri": "https://localhost:8080/",
          "height": 551
        },
        "outputId": "7736d14e-eb9e-4691-f2fd-8ccb273b39d0"
      },
      "source": [
        "#aplicando o curva do cootovelo para encontrar o número de clusters\n",
        "ks = range(1, 10)\n",
        "inertias = []\n",
        "for k in ks:\n",
        "    # Cria o obeto para modelo kmens para os testes\n",
        "    model = KMeans(n_clusters=k)\n",
        "    \n",
        "    # Aplica nas componentes selecionadas (3 componentes)\n",
        "    model.fit(PCA_components.iloc[:,:3])\n",
        "    \n",
        "    # Adiciona os valores para a distância (agitação)\n",
        "    inertias.append(model.inertia_)\n",
        "    \n",
        "plt.plot(ks, inertias, '-o', color='black')\n",
        "plt.xlabel('Numero de Cluster, k')\n",
        "plt.ylabel('Distâncias')\n",
        "plt.xticks(ks)\n",
        "plt.show()"
      ],
      "execution_count": null,
      "outputs": [
        {
          "output_type": "display_data",
          "data": {
            "image/png": "[encoded data removed]",
            "text/plain": [
              "<Figure size 1152x648 with 1 Axes>"
            ]
          },
          "metadata": {
            "tags": [],
            "needs_background": "light"
          }
        }
      ]
    },
    {
      "cell_type": "code",
      "metadata": {
        "id": "G9EUVYrvSaXZ",
        "colab": {
          "base_uri": "https://localhost:8080/",
          "height": 204
        },
        "outputId": "c4a2005b-1413-41e4-9af8-d75f9071711b"
      },
      "source": [
        "#---------------------------------------------------------------------------\n",
        "# implementando o K-means com 3 clusters \n",
        "#---------------------------------------------------------------------------\n",
        "k_means_pca=KMeans(n_clusters=3,random_state=42)\n",
        "k_means_pca.fit(PCA_components.iloc[:,:3])\n",
        "\n",
        "\n",
        "#df com os dados iniciais e de cada uma das componentes\n",
        "df_segment_pca_kmeans=pd.concat([df_carros.reset_index(drop=True),PCA_components.iloc[:,:3]],axis=1)\n",
        "df_segment_pca_kmeans.columns.values[-3:]=['Componente 1','Componente 2','Componente 3']\n",
        "df_segment_pca_kmeans['Seguimento no Kmeans']=k_means_pca.labels_\n",
        "\n",
        "\n",
        "df_segment_pca_kmeans.head()"
      ],
      "execution_count": null,
      "outputs": [
        {
          "output_type": "execute_result",
          "data": {
            "text/html": [
              "<div>\n",
              "<style scoped>\n",
              "    .dataframe tbody tr th:only-of-type {\n",
              "        vertical-align: middle;\n",
              "    }\n",
              "\n",
              "    .dataframe tbody tr th {\n",
              "        vertical-align: top;\n",
              "    }\n",
              "\n",
              "    .dataframe thead th {\n",
              "        text-align: right;\n",
              "    }\n",
              "</style>\n",
              "<table border=\"1\" class=\"dataframe\">\n",
              "  <thead>\n",
              "    <tr style=\"text-align: right;\">\n",
              "      <th></th>\n",
              "      <th>mpg</th>\n",
              "      <th>cylinders</th>\n",
              "      <th>cubicinches</th>\n",
              "      <th>hp</th>\n",
              "      <th>weightlbs</th>\n",
              "      <th>time-to-60</th>\n",
              "      <th>year</th>\n",
              "      <th>Componente 1</th>\n",
              "      <th>Componente 2</th>\n",
              "      <th>Componente 3</th>\n",
              "      <th>Seguimento no Kmeans</th>\n",
              "    </tr>\n",
              "  </thead>\n",
              "  <tbody>\n",
              "    <tr>\n",
              "      <th>0</th>\n",
              "      <td>14.0</td>\n",
              "      <td>8</td>\n",
              "      <td>350.0</td>\n",
              "      <td>165</td>\n",
              "      <td>4209.0</td>\n",
              "      <td>12</td>\n",
              "      <td>1972</td>\n",
              "      <td>3.485219</td>\n",
              "      <td>0.526326</td>\n",
              "      <td>-0.139738</td>\n",
              "      <td>1</td>\n",
              "    </tr>\n",
              "    <tr>\n",
              "      <th>1</th>\n",
              "      <td>31.9</td>\n",
              "      <td>4</td>\n",
              "      <td>89.0</td>\n",
              "      <td>71</td>\n",
              "      <td>1925.0</td>\n",
              "      <td>14</td>\n",
              "      <td>1980</td>\n",
              "      <td>-2.176912</td>\n",
              "      <td>-0.285424</td>\n",
              "      <td>-1.304613</td>\n",
              "      <td>0</td>\n",
              "    </tr>\n",
              "    <tr>\n",
              "      <th>2</th>\n",
              "      <td>17.0</td>\n",
              "      <td>8</td>\n",
              "      <td>302.0</td>\n",
              "      <td>140</td>\n",
              "      <td>3449.0</td>\n",
              "      <td>11</td>\n",
              "      <td>1971</td>\n",
              "      <td>2.684973</td>\n",
              "      <td>1.046946</td>\n",
              "      <td>-0.732156</td>\n",
              "      <td>1</td>\n",
              "    </tr>\n",
              "    <tr>\n",
              "      <th>3</th>\n",
              "      <td>15.0</td>\n",
              "      <td>8</td>\n",
              "      <td>400.0</td>\n",
              "      <td>150</td>\n",
              "      <td>3761.0</td>\n",
              "      <td>10</td>\n",
              "      <td>1971</td>\n",
              "      <td>3.534648</td>\n",
              "      <td>0.847619</td>\n",
              "      <td>-0.801334</td>\n",
              "      <td>1</td>\n",
              "    </tr>\n",
              "    <tr>\n",
              "      <th>4</th>\n",
              "      <td>30.5</td>\n",
              "      <td>4</td>\n",
              "      <td>98.0</td>\n",
              "      <td>63</td>\n",
              "      <td>2051.0</td>\n",
              "      <td>17</td>\n",
              "      <td>1978</td>\n",
              "      <td>-2.299222</td>\n",
              "      <td>0.194808</td>\n",
              "      <td>-0.221704</td>\n",
              "      <td>0</td>\n",
              "    </tr>\n",
              "  </tbody>\n",
              "</table>\n",
              "</div>"
            ],
            "text/plain": [
              "    mpg  cylinders  ...  Componente 3  Seguimento no Kmeans\n",
              "0  14.0          8  ...     -0.139738                     1\n",
              "1  31.9          4  ...     -1.304613                     0\n",
              "2  17.0          8  ...     -0.732156                     1\n",
              "3  15.0          8  ...     -0.801334                     1\n",
              "4  30.5          4  ...     -0.221704                     0\n",
              "\n",
              "[5 rows x 11 columns]"
            ]
          },
          "metadata": {
            "tags": []
          },
          "execution_count": 41
        }
      ]
    },
    {
      "cell_type": "code",
      "metadata": {
        "id": "LryllAjmSvoT"
      },
      "source": [
        "#adicionando um dicionário para cada um dos seguimentos\n",
        "df_segment_pca_kmeans['Cluster']=df_segment_pca_kmeans['Seguimento no Kmeans'].map({0:'C1',\n",
        "                     1:'C2',\n",
        "                     2:'C3'})\n"
      ],
      "execution_count": null,
      "outputs": []
    },
    {
      "cell_type": "code",
      "metadata": {
        "id": "UuhXRA4Isk2s",
        "colab": {
          "base_uri": "https://localhost:8080/",
          "height": 204
        },
        "outputId": "83c08929-6cb7-489e-9754-43f96ffd9e24"
      },
      "source": [
        "df_segment_pca_kmeans.head()"
      ],
      "execution_count": null,
      "outputs": [
        {
          "output_type": "execute_result",
          "data": {
            "text/html": [
              "<div>\n",
              "<style scoped>\n",
              "    .dataframe tbody tr th:only-of-type {\n",
              "        vertical-align: middle;\n",
              "    }\n",
              "\n",
              "    .dataframe tbody tr th {\n",
              "        vertical-align: top;\n",
              "    }\n",
              "\n",
              "    .dataframe thead th {\n",
              "        text-align: right;\n",
              "    }\n",
              "</style>\n",
              "<table border=\"1\" class=\"dataframe\">\n",
              "  <thead>\n",
              "    <tr style=\"text-align: right;\">\n",
              "      <th></th>\n",
              "      <th>mpg</th>\n",
              "      <th>cylinders</th>\n",
              "      <th>cubicinches</th>\n",
              "      <th>hp</th>\n",
              "      <th>weightlbs</th>\n",
              "      <th>time-to-60</th>\n",
              "      <th>year</th>\n",
              "      <th>Componente 1</th>\n",
              "      <th>Componente 2</th>\n",
              "      <th>Componente 3</th>\n",
              "      <th>Seguimento no Kmeans</th>\n",
              "      <th>Cluster</th>\n",
              "    </tr>\n",
              "  </thead>\n",
              "  <tbody>\n",
              "    <tr>\n",
              "      <th>0</th>\n",
              "      <td>14.0</td>\n",
              "      <td>8</td>\n",
              "      <td>350.0</td>\n",
              "      <td>165</td>\n",
              "      <td>4209.0</td>\n",
              "      <td>12</td>\n",
              "      <td>1972</td>\n",
              "      <td>3.485219</td>\n",
              "      <td>0.526326</td>\n",
              "      <td>-0.139738</td>\n",
              "      <td>1</td>\n",
              "      <td>C2</td>\n",
              "    </tr>\n",
              "    <tr>\n",
              "      <th>1</th>\n",
              "      <td>31.9</td>\n",
              "      <td>4</td>\n",
              "      <td>89.0</td>\n",
              "      <td>71</td>\n",
              "      <td>1925.0</td>\n",
              "      <td>14</td>\n",
              "      <td>1980</td>\n",
              "      <td>-2.176912</td>\n",
              "      <td>-0.285424</td>\n",
              "      <td>-1.304613</td>\n",
              "      <td>0</td>\n",
              "      <td>C1</td>\n",
              "    </tr>\n",
              "    <tr>\n",
              "      <th>2</th>\n",
              "      <td>17.0</td>\n",
              "      <td>8</td>\n",
              "      <td>302.0</td>\n",
              "      <td>140</td>\n",
              "      <td>3449.0</td>\n",
              "      <td>11</td>\n",
              "      <td>1971</td>\n",
              "      <td>2.684973</td>\n",
              "      <td>1.046946</td>\n",
              "      <td>-0.732156</td>\n",
              "      <td>1</td>\n",
              "      <td>C2</td>\n",
              "    </tr>\n",
              "    <tr>\n",
              "      <th>3</th>\n",
              "      <td>15.0</td>\n",
              "      <td>8</td>\n",
              "      <td>400.0</td>\n",
              "      <td>150</td>\n",
              "      <td>3761.0</td>\n",
              "      <td>10</td>\n",
              "      <td>1971</td>\n",
              "      <td>3.534648</td>\n",
              "      <td>0.847619</td>\n",
              "      <td>-0.801334</td>\n",
              "      <td>1</td>\n",
              "      <td>C2</td>\n",
              "    </tr>\n",
              "    <tr>\n",
              "      <th>4</th>\n",
              "      <td>30.5</td>\n",
              "      <td>4</td>\n",
              "      <td>98.0</td>\n",
              "      <td>63</td>\n",
              "      <td>2051.0</td>\n",
              "      <td>17</td>\n",
              "      <td>1978</td>\n",
              "      <td>-2.299222</td>\n",
              "      <td>0.194808</td>\n",
              "      <td>-0.221704</td>\n",
              "      <td>0</td>\n",
              "      <td>C1</td>\n",
              "    </tr>\n",
              "  </tbody>\n",
              "</table>\n",
              "</div>"
            ],
            "text/plain": [
              "    mpg  cylinders  cubicinches  ...  Componente 3  Seguimento no Kmeans  Cluster\n",
              "0  14.0          8        350.0  ...     -0.139738                     1       C2\n",
              "1  31.9          4         89.0  ...     -1.304613                     0       C1\n",
              "2  17.0          8        302.0  ...     -0.732156                     1       C2\n",
              "3  15.0          8        400.0  ...     -0.801334                     1       C2\n",
              "4  30.5          4         98.0  ...     -0.221704                     0       C1\n",
              "\n",
              "[5 rows x 12 columns]"
            ]
          },
          "metadata": {
            "tags": []
          },
          "execution_count": 43
        }
      ]
    },
    {
      "cell_type": "code",
      "metadata": {
        "id": "S-tAb-uZS0IN",
        "colab": {
          "base_uri": "https://localhost:8080/",
          "height": 567
        },
        "outputId": "b96d62b4-1b75-4ea0-a773-de63649019fd"
      },
      "source": [
        "#plotando os resultados\n",
        "x_axis=df_segment_pca_kmeans['Componente 2']\n",
        "y_axis=df_segment_pca_kmeans['Componente 1']\n",
        "sns.scatterplot(x_axis,y_axis,hue=df_segment_pca_kmeans['Cluster'],palette=['g','r','c'])\n",
        "plt.title('Segmentação Utilizando PCA e K-means')\n",
        "plt.show()"
      ],
      "execution_count": null,
      "outputs": [
        {
          "output_type": "display_data",
          "data": {
            "image/png": "[encoded data removed]",
            "text/plain": [
              "<Figure size 1152x648 with 1 Axes>"
            ]
          },
          "metadata": {
            "tags": [],
            "needs_background": "light"
          }
        }
      ]
    },
    {
      "cell_type": "code",
      "metadata": {
        "id": "-QqxbLbAL-xY",
        "colab": {
          "base_uri": "https://localhost:8080/",
          "height": 173
        },
        "outputId": "cb6e66c8-c9e1-462e-8a52-19010b6d7fa3"
      },
      "source": [
        "#contando a quantidade de instâncias em cada um dos grupos\n",
        "df_segment_pca_kmeans.groupby(by='Cluster').count()"
      ],
      "execution_count": null,
      "outputs": [
        {
          "output_type": "execute_result",
          "data": {
            "text/html": [
              "<div>\n",
              "<style scoped>\n",
              "    .dataframe tbody tr th:only-of-type {\n",
              "        vertical-align: middle;\n",
              "    }\n",
              "\n",
              "    .dataframe tbody tr th {\n",
              "        vertical-align: top;\n",
              "    }\n",
              "\n",
              "    .dataframe thead th {\n",
              "        text-align: right;\n",
              "    }\n",
              "</style>\n",
              "<table border=\"1\" class=\"dataframe\">\n",
              "  <thead>\n",
              "    <tr style=\"text-align: right;\">\n",
              "      <th></th>\n",
              "      <th>mpg</th>\n",
              "      <th>cylinders</th>\n",
              "      <th>cubicinches</th>\n",
              "      <th>hp</th>\n",
              "      <th>weightlbs</th>\n",
              "      <th>time-to-60</th>\n",
              "      <th>year</th>\n",
              "      <th>Componente 1</th>\n",
              "      <th>Componente 2</th>\n",
              "      <th>Componente 3</th>\n",
              "      <th>Seguimento no Kmeans</th>\n",
              "    </tr>\n",
              "    <tr>\n",
              "      <th>Cluster</th>\n",
              "      <th></th>\n",
              "      <th></th>\n",
              "      <th></th>\n",
              "      <th></th>\n",
              "      <th></th>\n",
              "      <th></th>\n",
              "      <th></th>\n",
              "      <th></th>\n",
              "      <th></th>\n",
              "      <th></th>\n",
              "      <th></th>\n",
              "    </tr>\n",
              "  </thead>\n",
              "  <tbody>\n",
              "    <tr>\n",
              "      <th>C1</th>\n",
              "      <td>77</td>\n",
              "      <td>77</td>\n",
              "      <td>77</td>\n",
              "      <td>77</td>\n",
              "      <td>77</td>\n",
              "      <td>77</td>\n",
              "      <td>77</td>\n",
              "      <td>77</td>\n",
              "      <td>77</td>\n",
              "      <td>77</td>\n",
              "      <td>77</td>\n",
              "    </tr>\n",
              "    <tr>\n",
              "      <th>C2</th>\n",
              "      <td>75</td>\n",
              "      <td>75</td>\n",
              "      <td>75</td>\n",
              "      <td>75</td>\n",
              "      <td>75</td>\n",
              "      <td>75</td>\n",
              "      <td>75</td>\n",
              "      <td>75</td>\n",
              "      <td>75</td>\n",
              "      <td>75</td>\n",
              "      <td>75</td>\n",
              "    </tr>\n",
              "    <tr>\n",
              "      <th>C3</th>\n",
              "      <td>109</td>\n",
              "      <td>109</td>\n",
              "      <td>109</td>\n",
              "      <td>109</td>\n",
              "      <td>109</td>\n",
              "      <td>109</td>\n",
              "      <td>109</td>\n",
              "      <td>109</td>\n",
              "      <td>109</td>\n",
              "      <td>109</td>\n",
              "      <td>109</td>\n",
              "    </tr>\n",
              "  </tbody>\n",
              "</table>\n",
              "</div>"
            ],
            "text/plain": [
              "         mpg  cylinders  ...  Componente 3  Seguimento no Kmeans\n",
              "Cluster                  ...                                    \n",
              "C1        77         77  ...            77                    77\n",
              "C2        75         75  ...            75                    75\n",
              "C3       109        109  ...           109                   109\n",
              "\n",
              "[3 rows x 11 columns]"
            ]
          },
          "metadata": {
            "tags": []
          },
          "execution_count": 45
        }
      ]
    },
    {
      "cell_type": "markdown",
      "metadata": {
        "id": "WgMBRamsd8uX"
      },
      "source": [
        "**Árvore de Decisão**"
      ]
    },
    {
      "cell_type": "code",
      "metadata": {
        "id": "G1ggKy6OeAwZ"
      },
      "source": [
        "#importando as bibliotecas\n",
        "from sklearn.tree import DecisionTreeClassifier # importa o classificador árvore de decisão\n",
        "from sklearn import metrics #importa as métricas para avaliação"
      ],
      "execution_count": null,
      "outputs": []
    },
    {
      "cell_type": "code",
      "metadata": {
        "id": "OSv93oDsfVp7"
      },
      "source": [
        "#preparando o dataset\n",
        "#df_carros_arvore=pd.read_csv('cars.csv')"
      ],
      "execution_count": null,
      "outputs": []
    },
    {
      "cell_type": "code",
      "metadata": {
        "id": "qfWLwfwPlFuB"
      },
      "source": [
        "#transformando os dados para numéricos\n",
        "#df_carros_arvore['cubicinches']=pd.to_numeric(df_carros_arvore['cubicinches'], errors='coerce')\n",
        "#df_carros_arvore['weightlbs']=pd.to_numeric(df_carros_arvore['weightlbs'], errors='coerce')"
      ],
      "execution_count": null,
      "outputs": []
    },
    {
      "cell_type": "code",
      "metadata": {
        "id": "e8oghW5xlaEJ"
      },
      "source": [
        "#retirando os valores nulos\n",
        "df_carros_arvore=df_carros.copy()#.dropna(inplace=True)"
      ],
      "execution_count": null,
      "outputs": []
    },
    {
      "cell_type": "code",
      "metadata": {
        "id": "vu0L_Y0Jff1w",
        "colab": {
          "base_uri": "https://localhost:8080/",
          "height": 204
        },
        "outputId": "cc4ae04e-4b5c-4190-ad51-907947fbf2b0"
      },
      "source": [
        "#mostrando o dataset\n",
        "df_carros_arvore.head()"
      ],
      "execution_count": null,
      "outputs": [
        {
          "output_type": "execute_result",
          "data": {
            "text/html": [
              "<div>\n",
              "<style scoped>\n",
              "    .dataframe tbody tr th:only-of-type {\n",
              "        vertical-align: middle;\n",
              "    }\n",
              "\n",
              "    .dataframe tbody tr th {\n",
              "        vertical-align: top;\n",
              "    }\n",
              "\n",
              "    .dataframe thead th {\n",
              "        text-align: right;\n",
              "    }\n",
              "</style>\n",
              "<table border=\"1\" class=\"dataframe\">\n",
              "  <thead>\n",
              "    <tr style=\"text-align: right;\">\n",
              "      <th></th>\n",
              "      <th>mpg</th>\n",
              "      <th>cylinders</th>\n",
              "      <th>cubicinches</th>\n",
              "      <th>hp</th>\n",
              "      <th>weightlbs</th>\n",
              "      <th>time-to-60</th>\n",
              "      <th>year</th>\n",
              "    </tr>\n",
              "  </thead>\n",
              "  <tbody>\n",
              "    <tr>\n",
              "      <th>0</th>\n",
              "      <td>14.0</td>\n",
              "      <td>8</td>\n",
              "      <td>350.0</td>\n",
              "      <td>165</td>\n",
              "      <td>4209.0</td>\n",
              "      <td>12</td>\n",
              "      <td>1972</td>\n",
              "    </tr>\n",
              "    <tr>\n",
              "      <th>1</th>\n",
              "      <td>31.9</td>\n",
              "      <td>4</td>\n",
              "      <td>89.0</td>\n",
              "      <td>71</td>\n",
              "      <td>1925.0</td>\n",
              "      <td>14</td>\n",
              "      <td>1980</td>\n",
              "    </tr>\n",
              "    <tr>\n",
              "      <th>2</th>\n",
              "      <td>17.0</td>\n",
              "      <td>8</td>\n",
              "      <td>302.0</td>\n",
              "      <td>140</td>\n",
              "      <td>3449.0</td>\n",
              "      <td>11</td>\n",
              "      <td>1971</td>\n",
              "    </tr>\n",
              "    <tr>\n",
              "      <th>3</th>\n",
              "      <td>15.0</td>\n",
              "      <td>8</td>\n",
              "      <td>400.0</td>\n",
              "      <td>150</td>\n",
              "      <td>3761.0</td>\n",
              "      <td>10</td>\n",
              "      <td>1971</td>\n",
              "    </tr>\n",
              "    <tr>\n",
              "      <th>4</th>\n",
              "      <td>30.5</td>\n",
              "      <td>4</td>\n",
              "      <td>98.0</td>\n",
              "      <td>63</td>\n",
              "      <td>2051.0</td>\n",
              "      <td>17</td>\n",
              "      <td>1978</td>\n",
              "    </tr>\n",
              "  </tbody>\n",
              "</table>\n",
              "</div>"
            ],
            "text/plain": [
              "    mpg  cylinders  cubicinches   hp  weightlbs  time-to-60  year\n",
              "0  14.0          8        350.0  165     4209.0          12  1972\n",
              "1  31.9          4         89.0   71     1925.0          14  1980\n",
              "2  17.0          8        302.0  140     3449.0          11  1971\n",
              "3  15.0          8        400.0  150     3761.0          10  1971\n",
              "4  30.5          4         98.0   63     2051.0          17  1978"
            ]
          },
          "metadata": {
            "tags": []
          },
          "execution_count": 50
        }
      ]
    },
    {
      "cell_type": "code",
      "metadata": {
        "id": "2lS0qKtbj9dT"
      },
      "source": [
        "#adicionando a coluna de classificação\n",
        "df_carros_arvore['is_efficient']=df_carros_arvore['mpg'].map(lambda x: 1 if x>25 else 0)"
      ],
      "execution_count": null,
      "outputs": []
    },
    {
      "cell_type": "code",
      "metadata": {
        "id": "6U80HgtSkhF4",
        "colab": {
          "base_uri": "https://localhost:8080/",
          "height": 204
        },
        "outputId": "1fecde49-6984-4904-f880-842cea392a84"
      },
      "source": [
        "df_carros_arvore.head()"
      ],
      "execution_count": null,
      "outputs": [
        {
          "output_type": "execute_result",
          "data": {
            "text/html": [
              "<div>\n",
              "<style scoped>\n",
              "    .dataframe tbody tr th:only-of-type {\n",
              "        vertical-align: middle;\n",
              "    }\n",
              "\n",
              "    .dataframe tbody tr th {\n",
              "        vertical-align: top;\n",
              "    }\n",
              "\n",
              "    .dataframe thead th {\n",
              "        text-align: right;\n",
              "    }\n",
              "</style>\n",
              "<table border=\"1\" class=\"dataframe\">\n",
              "  <thead>\n",
              "    <tr style=\"text-align: right;\">\n",
              "      <th></th>\n",
              "      <th>mpg</th>\n",
              "      <th>cylinders</th>\n",
              "      <th>cubicinches</th>\n",
              "      <th>hp</th>\n",
              "      <th>weightlbs</th>\n",
              "      <th>time-to-60</th>\n",
              "      <th>year</th>\n",
              "      <th>is_efficient</th>\n",
              "    </tr>\n",
              "  </thead>\n",
              "  <tbody>\n",
              "    <tr>\n",
              "      <th>0</th>\n",
              "      <td>14.0</td>\n",
              "      <td>8</td>\n",
              "      <td>350.0</td>\n",
              "      <td>165</td>\n",
              "      <td>4209.0</td>\n",
              "      <td>12</td>\n",
              "      <td>1972</td>\n",
              "      <td>0</td>\n",
              "    </tr>\n",
              "    <tr>\n",
              "      <th>1</th>\n",
              "      <td>31.9</td>\n",
              "      <td>4</td>\n",
              "      <td>89.0</td>\n",
              "      <td>71</td>\n",
              "      <td>1925.0</td>\n",
              "      <td>14</td>\n",
              "      <td>1980</td>\n",
              "      <td>1</td>\n",
              "    </tr>\n",
              "    <tr>\n",
              "      <th>2</th>\n",
              "      <td>17.0</td>\n",
              "      <td>8</td>\n",
              "      <td>302.0</td>\n",
              "      <td>140</td>\n",
              "      <td>3449.0</td>\n",
              "      <td>11</td>\n",
              "      <td>1971</td>\n",
              "      <td>0</td>\n",
              "    </tr>\n",
              "    <tr>\n",
              "      <th>3</th>\n",
              "      <td>15.0</td>\n",
              "      <td>8</td>\n",
              "      <td>400.0</td>\n",
              "      <td>150</td>\n",
              "      <td>3761.0</td>\n",
              "      <td>10</td>\n",
              "      <td>1971</td>\n",
              "      <td>0</td>\n",
              "    </tr>\n",
              "    <tr>\n",
              "      <th>4</th>\n",
              "      <td>30.5</td>\n",
              "      <td>4</td>\n",
              "      <td>98.0</td>\n",
              "      <td>63</td>\n",
              "      <td>2051.0</td>\n",
              "      <td>17</td>\n",
              "      <td>1978</td>\n",
              "      <td>1</td>\n",
              "    </tr>\n",
              "  </tbody>\n",
              "</table>\n",
              "</div>"
            ],
            "text/plain": [
              "    mpg  cylinders  cubicinches   hp  weightlbs  time-to-60  year  is_efficient\n",
              "0  14.0          8        350.0  165     4209.0          12  1972             0\n",
              "1  31.9          4         89.0   71     1925.0          14  1980             1\n",
              "2  17.0          8        302.0  140     3449.0          11  1971             0\n",
              "3  15.0          8        400.0  150     3761.0          10  1971             0\n",
              "4  30.5          4         98.0   63     2051.0          17  1978             1"
            ]
          },
          "metadata": {
            "tags": []
          },
          "execution_count": 52
        }
      ]
    },
    {
      "cell_type": "code",
      "metadata": {
        "id": "OyPPyi2TlJj4",
        "colab": {
          "base_uri": "https://localhost:8080/",
          "height": 272
        },
        "outputId": "073a708d-64fe-4eac-eb33-2cef49e9a157"
      },
      "source": [
        "df_carros_arvore.info()"
      ],
      "execution_count": null,
      "outputs": [
        {
          "output_type": "stream",
          "text": [
            "<class 'pandas.core.frame.DataFrame'>\n",
            "RangeIndex: 261 entries, 0 to 260\n",
            "Data columns (total 8 columns):\n",
            " #   Column        Non-Null Count  Dtype  \n",
            "---  ------        --------------  -----  \n",
            " 0   mpg           261 non-null    float64\n",
            " 1   cylinders     261 non-null    int64  \n",
            " 2   cubicinches   261 non-null    float64\n",
            " 3   hp            261 non-null    int64  \n",
            " 4   weightlbs     261 non-null    float64\n",
            " 5   time-to-60    261 non-null    int64  \n",
            " 6   year          261 non-null    int64  \n",
            " 7   is_efficient  261 non-null    int64  \n",
            "dtypes: float64(3), int64(5)\n",
            "memory usage: 16.4 KB\n"
          ],
          "name": "stdout"
        }
      ]
    },
    {
      "cell_type": "code",
      "metadata": {
        "id": "S66lhfFDf1rT"
      },
      "source": [
        "#definindo as entradas e as saídas\n",
        "entradas_arvore=df_carros_arvore[['cylinders'\t,'cubicinches'\t,'hp'\t,'weightlbs'\t,'time-to-60']]\n",
        "saidas_arvore=df_carros_arvore['is_efficient']"
      ],
      "execution_count": null,
      "outputs": []
    },
    {
      "cell_type": "code",
      "metadata": {
        "id": "eec3k15akqKj"
      },
      "source": [
        "#realiza a divisão dos dados entre treinamento e teste\n",
        "from sklearn.model_selection import train_test_split   # função que realiza a divisão do dataset\n",
        "X_train, X_test, y_train, y_test = train_test_split(entradas_arvore, saidas_arvore, test_size=0.30,random_state=42)# divide 30% para teste"
      ],
      "execution_count": null,
      "outputs": []
    },
    {
      "cell_type": "code",
      "metadata": {
        "id": "uX0d56TffLkZ"
      },
      "source": [
        "# Cria o objeto de classificação através do \n",
        "clf = DecisionTreeClassifier(random_state=42)\n",
        "\n",
        "# Realiza o treinamento do classificador\n",
        "clf = clf.fit(X_train,y_train)\n",
        "\n",
        "#Realiza a previsão de classificaçao \n",
        "y_pred = clf.predict(X_test)"
      ],
      "execution_count": null,
      "outputs": []
    },
    {
      "cell_type": "code",
      "metadata": {
        "id": "fmoNDbsVlwi0",
        "colab": {
          "base_uri": "https://localhost:8080/",
          "height": 204
        },
        "outputId": "f27cfc16-b1d5-45ed-e478-14df4d105a54"
      },
      "source": [
        "#constroi a matriz de confusão para comparar o modelo criado\n",
        "from sklearn.metrics import classification_report, confusion_matrix\n",
        "print(confusion_matrix(y_test, y_pred))\n",
        "print(classification_report(y_test, y_pred))"
      ],
      "execution_count": null,
      "outputs": [
        {
          "output_type": "stream",
          "text": [
            "[[33  8]\n",
            " [ 2 36]]\n",
            "              precision    recall  f1-score   support\n",
            "\n",
            "           0       0.94      0.80      0.87        41\n",
            "           1       0.82      0.95      0.88        38\n",
            "\n",
            "    accuracy                           0.87        79\n",
            "   macro avg       0.88      0.88      0.87        79\n",
            "weighted avg       0.88      0.87      0.87        79\n",
            "\n"
          ],
          "name": "stdout"
        }
      ]
    },
    {
      "cell_type": "code",
      "metadata": {
        "id": "76K2W_iOfPOD",
        "colab": {
          "base_uri": "https://localhost:8080/",
          "height": 551
        },
        "outputId": "389653b7-9113-478f-e4a5-b94da33f2c51"
      },
      "source": [
        "#Avaliando o modelo \n",
        "\n",
        "#realiza o plot da matriz de confusão\n",
        "matriz_confusao = confusion_matrix(y_test, y_pred)\n",
        "from mlxtend.plotting import plot_confusion_matrix\n",
        "\n",
        "fig, ax = plot_confusion_matrix(conf_mat=matriz_confusao)\n",
        "plt.show()"
      ],
      "execution_count": null,
      "outputs": [
        {
          "output_type": "display_data",
          "data": {
            "image/png": "[encoded data removed]",
            "text/plain": [
              "<Figure size 1152x648 with 1 Axes>"
            ]
          },
          "metadata": {
            "tags": [],
            "needs_background": "light"
          }
        }
      ]
    },
    {
      "cell_type": "code",
      "metadata": {
        "id": "M06m4uNOwMQN",
        "colab": {
          "base_uri": "https://localhost:8080/",
          "height": 238
        },
        "outputId": "2624113d-5b09-4ff1-dca3-bc8cfc3f7527"
      },
      "source": [
        "#aplicando a regressão logística\n",
        "from sklearn.linear_model import LogisticRegression\n",
        "clf_regressao = LogisticRegression(random_state=42)\n",
        "clf_regressao.fit(X_train,y_train)"
      ],
      "execution_count": null,
      "outputs": [
        {
          "output_type": "stream",
          "text": [
            "/usr/local/lib/python3.6/dist-packages/sklearn/linear_model/_logistic.py:940: ConvergenceWarning: lbfgs failed to converge (status=1):\n",
            "STOP: TOTAL NO. of ITERATIONS REACHED LIMIT.\n",
            "\n",
            "Increase the number of iterations (max_iter) or scale the data as shown in:\n",
            "    https://scikit-learn.org/stable/modules/preprocessing.html\n",
            "Please also refer to the documentation for alternative solver options:\n",
            "    https://scikit-learn.org/stable/modules/linear_model.html#logistic-regression\n",
            "  extra_warning_msg=_LOGISTIC_SOLVER_CONVERGENCE_MSG)\n"
          ],
          "name": "stderr"
        },
        {
          "output_type": "execute_result",
          "data": {
            "text/plain": [
              "LogisticRegression(C=1.0, class_weight=None, dual=False, fit_intercept=True,\n",
              "                   intercept_scaling=1, l1_ratio=None, max_iter=100,\n",
              "                   multi_class='auto', n_jobs=None, penalty='l2',\n",
              "                   random_state=42, solver='lbfgs', tol=0.0001, verbose=0,\n",
              "                   warm_start=False)"
            ]
          },
          "metadata": {
            "tags": []
          },
          "execution_count": 59
        }
      ]
    },
    {
      "cell_type": "code",
      "metadata": {
        "id": "-UU7w9wNw3W_"
      },
      "source": [
        "#Realiza a previsão de classificaçao \n",
        "y_pred_regressao = clf.predict(X_test)"
      ],
      "execution_count": null,
      "outputs": []
    },
    {
      "cell_type": "code",
      "metadata": {
        "id": "rTasEYKRxUTE",
        "colab": {
          "base_uri": "https://localhost:8080/",
          "height": 204
        },
        "outputId": "e44b6738-8f74-49ab-e40d-61029be56ace"
      },
      "source": [
        "print(confusion_matrix(y_test, y_pred_regressao))\n",
        "print(classification_report(y_test, y_pred_regressao))"
      ],
      "execution_count": null,
      "outputs": [
        {
          "output_type": "stream",
          "text": [
            "[[33  8]\n",
            " [ 2 36]]\n",
            "              precision    recall  f1-score   support\n",
            "\n",
            "           0       0.94      0.80      0.87        41\n",
            "           1       0.82      0.95      0.88        38\n",
            "\n",
            "    accuracy                           0.87        79\n",
            "   macro avg       0.88      0.88      0.87        79\n",
            "weighted avg       0.88      0.87      0.87        79\n",
            "\n"
          ],
          "name": "stdout"
        }
      ]
    },
    {
      "cell_type": "code",
      "metadata": {
        "id": "nf3KMUIrxEAf",
        "colab": {
          "base_uri": "https://localhost:8080/",
          "height": 551
        },
        "outputId": "65680872-ca45-4f89-aaf6-baedab527d47"
      },
      "source": [
        "matriz_confusao_reg = confusion_matrix(y_test, y_pred)\n",
        "fig, ax = plot_confusion_matrix(conf_mat=matriz_confusao_reg)\n",
        "plt.show()\n"
      ],
      "execution_count": null,
      "outputs": [
        {
          "output_type": "display_data",
          "data": {
            "image/png": "[encoded data removed]",
            "text/plain": [
              "<Figure size 1152x648 with 1 Axes>"
            ]
          },
          "metadata": {
            "tags": [],
            "needs_background": "light"
          }
        }
      ]
    }
  ]
}